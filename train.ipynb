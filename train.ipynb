{
 "cells": [
  {
   "cell_type": "code",
   "execution_count": 46,
   "metadata": {},
   "outputs": [],
   "source": [
    "from PIL import Image\n",
    "from tqdm import tqdm\n",
    "import os\n",
    "import torch\n",
    "from torch.utils.data import Dataset, DataLoader\n",
    "from torchvision import transforms, models\n",
    "import numpy as np\n",
    "from random import randint\n",
    "import pickle"
   ]
  },
  {
   "cell_type": "code",
   "execution_count": 93,
   "metadata": {},
   "outputs": [],
   "source": [
    "class ImageCaptionDataset(Dataset):\n",
    "    def __init__(self, img_dir, caption_array_dir, id_list, transform = None):\n",
    "        self.img_dir = img_dir\n",
    "        self.caption_array_dir = caption_array_dir\n",
    "        self.id_list = id_list\n",
    "        self.transform = transform if transform else transforms.ToTensor()\n",
    "\n",
    "    def __len__(self):\n",
    "        return sum(filename[-4:] == '.jpg' for filename in os.listdir(self.img_dir))\n",
    "\n",
    "    def __getitem__(self, index):\n",
    "        index = self.id_list[index]\n",
    "        filename = str(index).zfill(12) + '.jpg'\n",
    "        i = randint(0, 4)\n",
    "        with open(f\"{self.caption_array_dir}/{index}_{i}.npy\", mode = \"rb\") as f:\n",
    "            arr = np.load(f)\n",
    "        img = Image.open(f\"{self.img_dir}/{filename}\")\n",
    "        if img.mode != 'RGB':\n",
    "            img = img.convert('RGB')\n",
    "        return self.transform(img), torch.from_numpy(arr)"
   ]
  },
  {
   "cell_type": "code",
   "execution_count": 94,
   "metadata": {},
   "outputs": [],
   "source": [
    "train_image_dir = 'train_images'\n",
    "train_caption_dir = 'caption_train_arrays'\n",
    "with open(\"train_ids.pkl\", mode = \"rb\") as f:\n",
    "    train_ids = pickle.load(f)\n",
    "\n",
    "augment_and_normalize = transforms.Compose([\n",
    "    transforms.Resize(256),\n",
    "    transforms.RandomCrop(224),\n",
    "    transforms.RandomHorizontalFlip(),\n",
    "    transforms.ColorJitter(brightness=(0.5,1.2), saturation=0.5, contrast=(0.2, 2), hue=0.08),\n",
    "    transforms.ToTensor(),\n",
    "    transforms.Normalize(mean=[0.485, 0.456, 0.406], std=[0.229, 0.224, 0.225])\n",
    "])\n",
    "train_dataset = ImageCaptionDataset(train_image_dir, train_caption_dir, train_ids, transform = augment_and_normalize)"
   ]
  },
  {
   "cell_type": "code",
   "execution_count": 101,
   "metadata": {},
   "outputs": [],
   "source": [
    "batch_size = 50\n",
    "num_workers = 5\n",
    "identity = lambda x : x\n",
    "train_dataloader = DataLoader(train_dataset, collate_fn = identity, batch_size = batch_size, shuffle = True, num_workers = num_workers)"
   ]
  },
  {
   "cell_type": "code",
   "execution_count": 96,
   "metadata": {},
   "outputs": [],
   "source": [
    "test_image_dir = 'test_images'\n",
    "test_caption_dir = 'caption_test_arrays'\n",
    "with open(\"test_ids.pkl\", mode = \"rb\") as f:\n",
    "    test_ids = pickle.load(f)\n",
    "\n",
    "normalize = transforms.Compose([\n",
    "    transforms.ToTensor(),\n",
    "    transforms.Normalize(mean=[0.485, 0.456, 0.406], std=[0.229, 0.224, 0.225])\n",
    "])\n",
    "test_dataset = ImageCaptionDataset(test_image_dir, test_caption_dir, test_ids, transform = augment_and_normalize)"
   ]
  },
  {
   "cell_type": "code",
   "execution_count": 97,
   "metadata": {},
   "outputs": [],
   "source": [
    "test_dataloader = DataLoader(test_dataset, collate_fn = identity, batch_size = batch_size, shuffle = True, num_workers = num_workers)"
   ]
  },
  {
   "cell_type": "code",
   "execution_count": null,
   "metadata": {},
   "outputs": [],
   "source": [
    "# load model\n",
    "efficientnet_b6 = models.efficientnet_b6(pretrained=True)"
   ]
  },
  {
   "cell_type": "code",
   "execution_count": null,
   "metadata": {},
   "outputs": [],
   "source": []
  },
  {
   "cell_type": "code",
   "execution_count": null,
   "metadata": {},
   "outputs": [],
   "source": []
  },
  {
   "cell_type": "code",
   "execution_count": null,
   "metadata": {},
   "outputs": [],
   "source": []
  },
  {
   "cell_type": "code",
   "execution_count": null,
   "metadata": {},
   "outputs": [],
   "source": []
  }
 ],
 "metadata": {
  "kernelspec": {
   "display_name": "Python 3.9.7 ('base')",
   "language": "python",
   "name": "python3"
  },
  "language_info": {
   "codemirror_mode": {
    "name": "ipython",
    "version": 3
   },
   "file_extension": ".py",
   "mimetype": "text/x-python",
   "name": "python",
   "nbconvert_exporter": "python",
   "pygments_lexer": "ipython3",
   "version": "3.9.7"
  },
  "orig_nbformat": 4,
  "vscode": {
   "interpreter": {
    "hash": "89ad9173206cf9d9ef8b207d4848dda7f3f7471d9266639ce7846a81418ce87b"
   }
  }
 },
 "nbformat": 4,
 "nbformat_minor": 2
}
