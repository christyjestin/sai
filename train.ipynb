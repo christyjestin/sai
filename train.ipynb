{
 "cells": [
  {
   "cell_type": "code",
   "execution_count": 1,
   "metadata": {},
   "outputs": [],
   "source": [
    "from tqdm import tqdm\n",
    "import os\n",
    "import torch\n",
    "import torchvision\n",
    "from torch.utils.data import Dataset, DataLoader\n",
    "from torchvision import transforms, models\n",
    "import numpy as np\n",
    "from random import randint\n",
    "import pickle"
   ]
  },
  {
   "cell_type": "code",
   "execution_count": null,
   "metadata": {},
   "outputs": [],
   "source": [
    "# load model but don't move it to GPU to avoid multiprocessing issues in data loading\n",
    "device = torch.device('cuda') if torch.cuda.is_available() else torch.device('cpu')\n",
    "efficientnet_b6 = models.efficientnet_b6(pretrained = True)\n",
    "efficientnet_b6.eval()\n",
    "efficientnet_b6.to(device)"
   ]
  },
  {
   "cell_type": "code",
   "execution_count": 3,
   "metadata": {},
   "outputs": [
    {
     "name": "stdout",
     "output_type": "stream",
     "text": [
      "False\n"
     ]
    }
   ],
   "source": [
    "print(torch.cuda.is_available())"
   ]
  },
  {
   "cell_type": "code",
   "execution_count": 3,
   "metadata": {},
   "outputs": [],
   "source": [
    "torchvision.set_image_backend('accimage')"
   ]
  },
  {
   "cell_type": "code",
   "execution_count": 11,
   "metadata": {},
   "outputs": [],
   "source": [
    "# normalize using the convention for all pretrained torchvision classifications models\n",
    "normalize = transforms.Compose([\n",
    "    transforms.Lambda(lambda x: x.float()),\n",
    "    transforms.Normalize(mean=[0.485, 0.456, 0.406], std=[0.229, 0.224, 0.225])\n",
    "])\n",
    "# apply some data augmenting/model resiliency techniques and then normalize\n",
    "augment_and_normalize = transforms.Compose([\n",
    "    transforms.Resize(256),\n",
    "    transforms.RandomCrop(224),\n",
    "    transforms.RandomHorizontalFlip(),\n",
    "    transforms.ColorJitter(brightness = (0.5,1.2), saturation = 0.5, contrast = (0.2, 2), hue = 0.08),\n",
    "    normalize\n",
    "])"
   ]
  },
  {
   "cell_type": "code",
   "execution_count": 19,
   "metadata": {},
   "outputs": [],
   "source": [
    "# note that this class automatically moves both inputs and outputs to GPU (if available)\n",
    "class ImageCaptionDataset(Dataset):\n",
    "    def __init__(self, img_dir, caption_array_dir, id_list, transform = None):\n",
    "        # assumes that captions are downloaded as jpgs (with no extra processing)\n",
    "        # and saved in the folder img_dir\n",
    "        self.img_dir = img_dir\n",
    "        # assumes that captions are already preprocessed and represented as numpy arrays in\n",
    "        # the folder caption_array_dir\n",
    "        self.caption_array_dir = caption_array_dir\n",
    "        # list of image ids used for both images and caption arrays\n",
    "        self.id_list = id_list\n",
    "        self.transform = transform if transform else normalize\n",
    "\n",
    "    def __len__(self):\n",
    "        return sum(filename[-4:] == '.jpg' for filename in os.listdir(self.img_dir))\n",
    "\n",
    "    def __getitem__(self, index):\n",
    "        # print(index)\n",
    "        index = self.id_list[index]\n",
    "        # filenames are of the form id.jpg where the id is padded with zeroes to the left\n",
    "        # until it has length 12\n",
    "        filename = str(index).zfill(12) + '.jpg'\n",
    "        # each image comes with at least 5 captions, so choose one at random\n",
    "        # caption arrays have format id_n.jpg where id is not padded with zeroes\n",
    "        # and n is an integer between 0 and 4 indicating which of the 5 captions is represented\n",
    "        i = randint(0, 4)\n",
    "        with open(f\"{self.caption_array_dir}/{index}_{i}.npy\", mode = \"rb\") as f:\n",
    "            arr = np.load(f)\n",
    "        img = torchvision.io.read_image(f\"{self.img_dir}/{filename}\")\n",
    "        # convert to RGB if grayscale\n",
    "        if img.shape[0] == 1:\n",
    "            img = img.repeat(3, 1, 1)\n",
    "        elif img.shape[0] != 3:\n",
    "            print(\"improper shape: \", tuple(img.shape))\n",
    "            return\n",
    "        # apply transform and classify for img; just create an equivalent tensor for caption array\n",
    "        # print(\"loaded files\")\n",
    "        return efficientnet_b6.forward(torch.unsqueeze(self.transform(img), 0)), torch.from_numpy(arr)"
   ]
  },
  {
   "cell_type": "code",
   "execution_count": 20,
   "metadata": {},
   "outputs": [],
   "source": [
    "train_image_dir = 'train_images'\n",
    "train_caption_dir = 'train_arrays'\n",
    "# retrieve saved id list\n",
    "with open(\"train_ids.pkl\", mode = \"rb\") as f:\n",
    "    train_ids = pickle.load(f)\n",
    "train_dataset = ImageCaptionDataset(train_image_dir, train_caption_dir, train_ids, transform = augment_and_normalize)"
   ]
  },
  {
   "cell_type": "code",
   "execution_count": 21,
   "metadata": {},
   "outputs": [],
   "source": [
    "batch_size = 50\n",
    "num_workers = 0\n",
    "# use this for collate fn to avoid stacking tensors from same batch since dimensions won't line up for caption arrays\n",
    "def identity(x):\n",
    "    return x\n",
    "train_dataloader = DataLoader(train_dataset, collate_fn = identity, batch_size = batch_size, shuffle = True, num_workers = num_workers)"
   ]
  },
  {
   "cell_type": "code",
   "execution_count": 8,
   "metadata": {},
   "outputs": [],
   "source": [
    "test_image_dir = 'test_images'\n",
    "test_caption_dir = 'test_arrays'\n",
    "# retrieve saved id list\n",
    "with open(\"test_ids.pkl\", mode = \"rb\") as f:\n",
    "    test_ids = pickle.load(f)\n",
    "test_dataset = ImageCaptionDataset(test_image_dir, test_caption_dir, test_ids)"
   ]
  },
  {
   "cell_type": "code",
   "execution_count": 9,
   "metadata": {},
   "outputs": [],
   "source": [
    "test_dataloader = DataLoader(test_dataset, collate_fn = identity, batch_size = batch_size, shuffle = True, num_workers = num_workers)"
   ]
  },
  {
   "cell_type": "code",
   "execution_count": 23,
   "metadata": {},
   "outputs": [],
   "source": [
    "train_iter = iter(train_dataloader)"
   ]
  },
  {
   "cell_type": "code",
   "execution_count": 24,
   "metadata": {},
   "outputs": [],
   "source": [
    "n = next(train_iter)"
   ]
  },
  {
   "cell_type": "code",
   "execution_count": null,
   "metadata": {},
   "outputs": [],
   "source": []
  },
  {
   "cell_type": "code",
   "execution_count": null,
   "metadata": {},
   "outputs": [],
   "source": []
  },
  {
   "cell_type": "code",
   "execution_count": null,
   "metadata": {},
   "outputs": [],
   "source": []
  },
  {
   "cell_type": "code",
   "execution_count": null,
   "metadata": {},
   "outputs": [],
   "source": []
  },
  {
   "cell_type": "code",
   "execution_count": null,
   "metadata": {},
   "outputs": [],
   "source": []
  }
 ],
 "metadata": {
  "interpreter": {
   "hash": "8bab3bcc10fb4daf3e3f0428a2b3c296eef59ed9157f42dd3480f6eeaabd32d0"
  },
  "kernelspec": {
   "display_name": "Python 3.8.3 ('base')",
   "language": "python",
   "name": "python3"
  },
  "language_info": {
   "codemirror_mode": {
    "name": "ipython",
    "version": 3
   },
   "file_extension": ".py",
   "mimetype": "text/x-python",
   "name": "python",
   "nbconvert_exporter": "python",
   "pygments_lexer": "ipython3",
   "version": "3.8.3"
  },
  "orig_nbformat": 4,
  "vscode": {
   "interpreter": {
    "hash": "89ad9173206cf9d9ef8b207d4848dda7f3f7471d9266639ce7846a81418ce87b"
   }
  }
 },
 "nbformat": 4,
 "nbformat_minor": 2
}
